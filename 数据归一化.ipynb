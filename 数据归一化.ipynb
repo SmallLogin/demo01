{
 "cells": [
  {
   "cell_type": "markdown",
   "metadata": {},
   "source": [
    "## 数据归一化处理"
   ]
  },
  {
   "cell_type": "code",
   "execution_count": 1,
   "metadata": {},
   "outputs": [],
   "source": [
    "import numpy as np\n",
    "import matplotlib.pyplot as plt"
   ]
  },
  {
   "cell_type": "markdown",
   "metadata": {},
   "source": [
    "最值归一化 Normalization"
   ]
  },
  {
   "cell_type": "code",
   "execution_count": 2,
   "metadata": {},
   "outputs": [
    {
     "data": {
      "text/plain": [
       "array([ 9,  7, 43, 44, 44, 28, 30, 59, 50, 37, 39, 43, 15, 77, 71, 97, 29,\n",
       "       82, 81, 88, 78, 12, 53, 49, 18, 23, 81,  7, 55, 64, 86, 85, 18, 62,\n",
       "       47, 17, 57, 25, 46,  7, 94, 59, 16, 80, 36, 80, 54, 24, 23, 66, 42,\n",
       "       36, 24, 55, 30, 47, 78, 44, 13, 19, 16, 22,  9, 58, 86, 99, 23, 66,\n",
       "       61, 40, 55, 46, 96, 13, 60, 58, 21, 51, 49,  4, 23, 11,  2,  2, 40,\n",
       "       26, 66, 80, 10, 36, 71, 67,  4, 28, 69, 43, 87,  9, 40,  3])"
      ]
     },
     "execution_count": 2,
     "metadata": {},
     "output_type": "execute_result"
    }
   ],
   "source": [
    "x = np.random.randint(0,100,100)\n",
    "x"
   ]
  },
  {
   "cell_type": "code",
   "execution_count": 3,
   "metadata": {},
   "outputs": [
    {
     "data": {
      "text/plain": [
       "array([0.07216495, 0.05154639, 0.42268041, 0.43298969, 0.43298969,\n",
       "       0.26804124, 0.28865979, 0.58762887, 0.49484536, 0.36082474,\n",
       "       0.3814433 , 0.42268041, 0.13402062, 0.77319588, 0.71134021,\n",
       "       0.97938144, 0.27835052, 0.82474227, 0.81443299, 0.88659794,\n",
       "       0.78350515, 0.10309278, 0.5257732 , 0.48453608, 0.16494845,\n",
       "       0.21649485, 0.81443299, 0.05154639, 0.54639175, 0.63917526,\n",
       "       0.86597938, 0.8556701 , 0.16494845, 0.6185567 , 0.46391753,\n",
       "       0.15463918, 0.56701031, 0.2371134 , 0.45360825, 0.05154639,\n",
       "       0.94845361, 0.58762887, 0.1443299 , 0.80412371, 0.35051546,\n",
       "       0.80412371, 0.53608247, 0.22680412, 0.21649485, 0.65979381,\n",
       "       0.41237113, 0.35051546, 0.22680412, 0.54639175, 0.28865979,\n",
       "       0.46391753, 0.78350515, 0.43298969, 0.11340206, 0.17525773,\n",
       "       0.1443299 , 0.20618557, 0.07216495, 0.57731959, 0.86597938,\n",
       "       1.        , 0.21649485, 0.65979381, 0.60824742, 0.39175258,\n",
       "       0.54639175, 0.45360825, 0.96907216, 0.11340206, 0.59793814,\n",
       "       0.57731959, 0.19587629, 0.50515464, 0.48453608, 0.02061856,\n",
       "       0.21649485, 0.09278351, 0.        , 0.        , 0.39175258,\n",
       "       0.24742268, 0.65979381, 0.80412371, 0.08247423, 0.35051546,\n",
       "       0.71134021, 0.67010309, 0.02061856, 0.26804124, 0.69072165,\n",
       "       0.42268041, 0.87628866, 0.07216495, 0.39175258, 0.01030928])"
      ]
     },
     "execution_count": 3,
     "metadata": {},
     "output_type": "execute_result"
    }
   ],
   "source": [
    "(x-np.min(x))/(np.max(x)-np.min(x))"
   ]
  },
  {
   "cell_type": "code",
   "execution_count": 4,
   "metadata": {},
   "outputs": [],
   "source": [
    "X=np.random.randint(0,100,(50,2))"
   ]
  },
  {
   "cell_type": "code",
   "execution_count": 5,
   "metadata": {},
   "outputs": [
    {
     "data": {
      "text/plain": [
       "array([[50, 43],\n",
       "       [89,  8],\n",
       "       [73,  3],\n",
       "       [41, 63],\n",
       "       [67, 18],\n",
       "       [85, 58],\n",
       "       [69, 49],\n",
       "       [21, 64],\n",
       "       [40, 85],\n",
       "       [26, 14],\n",
       "       [97, 55],\n",
       "       [52, 73],\n",
       "       [75,  9],\n",
       "       [ 0, 25],\n",
       "       [94, 11],\n",
       "       [82, 44],\n",
       "       [21, 22],\n",
       "       [25, 67],\n",
       "       [10, 78],\n",
       "       [84, 38],\n",
       "       [40, 91],\n",
       "       [57, 77],\n",
       "       [68, 41],\n",
       "       [84, 79],\n",
       "       [52, 22],\n",
       "       [60, 15],\n",
       "       [68,  1],\n",
       "       [32,  6],\n",
       "       [76, 10],\n",
       "       [36, 89],\n",
       "       [74, 64],\n",
       "       [19, 60],\n",
       "       [95, 40],\n",
       "       [21, 16],\n",
       "       [30, 62],\n",
       "       [52, 56],\n",
       "       [68, 81],\n",
       "       [31, 50],\n",
       "       [89, 85],\n",
       "       [17, 37],\n",
       "       [96, 94],\n",
       "       [92, 70],\n",
       "       [27, 54],\n",
       "       [40, 76],\n",
       "       [29, 60],\n",
       "       [23, 82],\n",
       "       [60, 44],\n",
       "       [77, 68],\n",
       "       [98, 71],\n",
       "       [ 3, 77]])"
      ]
     },
     "execution_count": 5,
     "metadata": {},
     "output_type": "execute_result"
    }
   ],
   "source": [
    "X"
   ]
  },
  {
   "cell_type": "code",
   "execution_count": 6,
   "metadata": {},
   "outputs": [
    {
     "data": {
      "text/plain": [
       "array([[50, 43],\n",
       "       [89,  8],\n",
       "       [73,  3],\n",
       "       [41, 63],\n",
       "       [67, 18],\n",
       "       [85, 58],\n",
       "       [69, 49],\n",
       "       [21, 64],\n",
       "       [40, 85],\n",
       "       [26, 14]])"
      ]
     },
     "execution_count": 6,
     "metadata": {},
     "output_type": "execute_result"
    }
   ],
   "source": [
    "X[:10,:]\n"
   ]
  },
  {
   "cell_type": "code",
   "execution_count": 7,
   "metadata": {},
   "outputs": [],
   "source": [
    "X=np.array(X,dtype=float)"
   ]
  },
  {
   "cell_type": "code",
   "execution_count": 10,
   "metadata": {},
   "outputs": [
    {
     "data": {
      "text/plain": [
       "array([[50., 43.],\n",
       "       [89.,  8.],\n",
       "       [73.,  3.],\n",
       "       [41., 63.],\n",
       "       [67., 18.],\n",
       "       [85., 58.],\n",
       "       [69., 49.],\n",
       "       [21., 64.],\n",
       "       [40., 85.],\n",
       "       [26., 14.]])"
      ]
     },
     "execution_count": 10,
     "metadata": {},
     "output_type": "execute_result"
    }
   ],
   "source": [
    "X[:10,:]"
   ]
  },
  {
   "cell_type": "code",
   "execution_count": 11,
   "metadata": {},
   "outputs": [],
   "source": [
    "X[:,0]=(X[:,0]-np.min(X[:,0]))/(np.max(X[:,0])-np.min([X[:,0]]))"
   ]
  },
  {
   "cell_type": "code",
   "execution_count": 12,
   "metadata": {},
   "outputs": [],
   "source": [
    "X[:,1]=(X[:,1]-np.min(X[:,1]))/(np.max(X[:,1])-np.min([X[:,1]]))"
   ]
  },
  {
   "cell_type": "code",
   "execution_count": 13,
   "metadata": {},
   "outputs": [
    {
     "data": {
      "text/plain": [
       "array([[0.51020408, 0.4516129 ],\n",
       "       [0.90816327, 0.07526882],\n",
       "       [0.74489796, 0.02150538],\n",
       "       [0.41836735, 0.66666667],\n",
       "       [0.68367347, 0.1827957 ],\n",
       "       [0.86734694, 0.61290323],\n",
       "       [0.70408163, 0.51612903],\n",
       "       [0.21428571, 0.67741935],\n",
       "       [0.40816327, 0.90322581],\n",
       "       [0.26530612, 0.13978495]])"
      ]
     },
     "execution_count": 13,
     "metadata": {},
     "output_type": "execute_result"
    }
   ],
   "source": [
    "X[:10,:]"
   ]
  },
  {
   "cell_type": "code",
   "execution_count": 14,
   "metadata": {},
   "outputs": [
    {
     "data": {
      "image/png": "[encoded data removed]",
      "text/plain": [
       "<Figure size 432x288 with 1 Axes>"
      ]
     },
     "metadata": {
      "needs_background": "light"
     },
     "output_type": "display_data"
    }
   ],
   "source": [
    "plt.scatter(X[:,0],X[:,1])\n",
    "plt.show()"
   ]
  },
  {
   "cell_type": "code",
   "execution_count": 15,
   "metadata": {},
   "outputs": [
    {
     "data": {
      "text/plain": [
       "100"
      ]
     },
     "execution_count": 15,
     "metadata": {},
     "output_type": "execute_result"
    }
   ],
   "source": [
    "np.size(X)"
   ]
  },
  {
   "cell_type": "code",
   "execution_count": 19,
   "metadata": {},
   "outputs": [
    {
     "data": {
      "text/plain": [
       "(50, 2)"
      ]
     },
     "execution_count": 19,
     "metadata": {},
     "output_type": "execute_result"
    }
   ],
   "source": [
    "np.shape(X)"
   ]
  },
  {
   "cell_type": "code",
   "execution_count": 32,
   "metadata": {},
   "outputs": [
    {
     "data": {
      "text/plain": [
       "0.5540816326530613"
      ]
     },
     "execution_count": 32,
     "metadata": {},
     "output_type": "execute_result"
    }
   ],
   "source": [
    "np.mean(X[:,0])"
   ]
  },
  {
   "cell_type": "code",
   "execution_count": 33,
   "metadata": {},
   "outputs": [
    {
     "data": {
      "text/plain": [
       "0.286785528212292"
      ]
     },
     "execution_count": 33,
     "metadata": {},
     "output_type": "execute_result"
    }
   ],
   "source": [
    "np.std(X[:,0])"
   ]
  },
  {
   "cell_type": "code",
   "execution_count": 34,
   "metadata": {},
   "outputs": [
    {
     "data": {
      "text/plain": [
       "0.5279569892473117"
      ]
     },
     "execution_count": 34,
     "metadata": {},
     "output_type": "execute_result"
    }
   ],
   "source": [
    "np.mean(X[:,1])"
   ]
  },
  {
   "cell_type": "code",
   "execution_count": 36,
   "metadata": {},
   "outputs": [
    {
     "data": {
      "text/plain": [
       "0.2924355605233732"
      ]
     },
     "execution_count": 36,
     "metadata": {},
     "output_type": "execute_result"
    }
   ],
   "source": [
    "np.std(X[:,1])"
   ]
  },
  {
   "cell_type": "markdown",
   "metadata": {},
   "source": [
    "## 均值归一化 Standardization"
   ]
  },
  {
   "cell_type": "code",
   "execution_count": 76,
   "metadata": {},
   "outputs": [],
   "source": [
    "X2=np.random.randint(0,100,(50,2))\n"
   ]
  },
  {
   "cell_type": "code",
   "execution_count": 77,
   "metadata": {},
   "outputs": [
    {
     "data": {
      "text/plain": [
       "array([[41., 64.],\n",
       "       [96., 79.],\n",
       "       [46., 45.],\n",
       "       [81., 74.],\n",
       "       [55.,  3.],\n",
       "       [30., 25.],\n",
       "       [83., 82.],\n",
       "       [53., 39.],\n",
       "       [59., 44.],\n",
       "       [63., 68.],\n",
       "       [60., 89.],\n",
       "       [45., 67.],\n",
       "       [10., 64.],\n",
       "       [54., 94.],\n",
       "       [20., 99.],\n",
       "       [95., 68.],\n",
       "       [40., 53.],\n",
       "       [52., 55.],\n",
       "       [88., 79.],\n",
       "       [81., 17.],\n",
       "       [15., 86.],\n",
       "       [98., 77.],\n",
       "       [88., 78.],\n",
       "       [52., 91.],\n",
       "       [42.,  3.],\n",
       "       [85., 75.],\n",
       "       [81., 83.],\n",
       "       [27., 63.],\n",
       "       [99., 19.],\n",
       "       [46., 42.],\n",
       "       [29., 64.],\n",
       "       [50., 32.],\n",
       "       [51., 21.],\n",
       "       [60., 61.],\n",
       "       [84., 42.],\n",
       "       [16., 43.],\n",
       "       [ 0., 97.],\n",
       "       [74., 95.],\n",
       "       [64., 97.],\n",
       "       [ 9., 24.],\n",
       "       [ 9., 30.],\n",
       "       [25., 43.],\n",
       "       [73., 79.],\n",
       "       [59., 53.],\n",
       "       [79., 36.],\n",
       "       [47., 34.],\n",
       "       [99., 38.],\n",
       "       [65., 94.],\n",
       "       [89., 53.],\n",
       "       [64., 55.]])"
      ]
     },
     "execution_count": 77,
     "metadata": {},
     "output_type": "execute_result"
    }
   ],
   "source": [
    "X2=np.array(X2,dtype=float)\n",
    "X2"
   ]
  },
  {
   "cell_type": "code",
   "execution_count": 78,
   "metadata": {},
   "outputs": [
    {
     "data": {
      "text/plain": [
       "array([-0.58196317,  1.46720293, -0.39567535,  0.90833945, -0.06035726,\n",
       "       -0.99179639,  0.98285458, -0.13487239,  0.08867301,  0.23770327,\n",
       "        0.12593057, -0.43293291, -1.73694771, -0.09761482, -1.36437205,\n",
       "        1.42994537, -0.61922074, -0.17212995,  1.16914241,  0.90833945,\n",
       "       -1.55065988,  1.54171806,  1.16914241, -0.17212995, -0.54470561,\n",
       "        1.05736971,  0.90833945, -1.10356909,  1.57897563, -0.39567535,\n",
       "       -1.02905396, -0.24664508, -0.20938752,  0.12593057,  1.02011214,\n",
       "       -1.51340231, -2.10952336,  0.64753649,  0.27496083, -1.77420527,\n",
       "       -1.77420527, -1.17808422,  0.61027892,  0.08867301,  0.83382432,\n",
       "       -0.35841778,  1.57897563,  0.3122184 ,  1.20639997,  0.27496083])"
      ]
     },
     "execution_count": 78,
     "metadata": {},
     "output_type": "execute_result"
    }
   ],
   "source": [
    "X2[:,0]=(X2[:,0]-np.mean(X2[:,0]))/np.std(X2[:,0])\n",
    "X2[:,0]\n",
    "\n"
   ]
  },
  {
   "cell_type": "code",
   "execution_count": 79,
   "metadata": {},
   "outputs": [
    {
     "data": {
      "text/plain": [
       "array([ 0.21998695,  0.8009384 , -0.51588489,  0.60728792, -2.14254896,\n",
       "       -1.29048683,  0.91712869, -0.74826547, -0.55461499,  0.37490734,\n",
       "        1.18823937,  0.33617724,  0.21998695,  1.38188985,  1.57554034,\n",
       "        0.37490734, -0.20604412, -0.12858392,  0.8009384 , -1.6003276 ,\n",
       "        1.07204908,  0.72347821,  0.76220831,  1.26569956, -2.14254896,\n",
       "        0.64601802,  0.95585879,  0.18125685, -1.52286741, -0.63207518,\n",
       "        0.21998695, -1.01937615, -1.44540721,  0.10379666, -0.63207518,\n",
       "       -0.59334508,  1.49808015,  1.42061995,  1.49808015, -1.32921692,\n",
       "       -1.09683634, -0.59334508,  0.8009384 , -0.20604412, -0.86445576,\n",
       "       -0.94191595, -0.78699557,  1.38188985, -0.20604412, -0.12858392])"
      ]
     },
     "execution_count": 79,
     "metadata": {},
     "output_type": "execute_result"
    }
   ],
   "source": [
    "X2[:,1]=(X2[:,1]-np.mean(X2[:,1]))/np.std(X2[:,1])\n",
    "X2[:,1]"
   ]
  },
  {
   "cell_type": "code",
   "execution_count": 80,
   "metadata": {},
   "outputs": [
    {
     "data": {
      "text/plain": [
       "50"
      ]
     },
     "execution_count": 80,
     "metadata": {},
     "output_type": "execute_result"
    }
   ],
   "source": [
    "X2[:,0].size"
   ]
  },
  {
   "cell_type": "code",
   "execution_count": 81,
   "metadata": {},
   "outputs": [
    {
     "data": {
      "text/plain": [
       "50"
      ]
     },
     "execution_count": 81,
     "metadata": {},
     "output_type": "execute_result"
    }
   ],
   "source": [
    "X2[:,1].size\n",
    "\n"
   ]
  },
  {
   "cell_type": "code",
   "execution_count": 82,
   "metadata": {},
   "outputs": [
    {
     "data": {
      "image/png": "[encoded data removed]",
      "text/plain": [
       "<Figure size 432x288 with 1 Axes>"
      ]
     },
     "metadata": {
      "needs_background": "light"
     },
     "output_type": "display_data"
    }
   ],
   "source": [
    "plt.scatter(X2[:,0],X2[:,1])\n",
    "plt.show()"
   ]
  },
  {
   "cell_type": "code",
   "execution_count": 87,
   "metadata": {},
   "outputs": [
    {
     "data": {
      "text/plain": [
       "1.121325254871408e-16"
      ]
     },
     "execution_count": 87,
     "metadata": {},
     "output_type": "execute_result"
    }
   ],
   "source": [
    "np.mean(X2[:,0])"
   ]
  },
  {
   "cell_type": "code",
   "execution_count": 88,
   "metadata": {},
   "outputs": [
    {
     "data": {
      "text/plain": [
       "1.0"
      ]
     },
     "execution_count": 88,
     "metadata": {},
     "output_type": "execute_result"
    }
   ],
   "source": [
    "np.std(X2[:,0])"
   ]
  },
  {
   "cell_type": "code",
   "execution_count": 89,
   "metadata": {},
   "outputs": [
    {
     "data": {
      "text/plain": [
       "-2.3869795029440865e-17"
      ]
     },
     "execution_count": 89,
     "metadata": {},
     "output_type": "execute_result"
    }
   ],
   "source": [
    "np.mean(X2[:,1])\n",
    "\n"
   ]
  },
  {
   "cell_type": "code",
   "execution_count": 86,
   "metadata": {},
   "outputs": [
    {
     "data": {
      "text/plain": [
       "0.9999999999999998"
      ]
     },
     "execution_count": 86,
     "metadata": {},
     "output_type": "execute_result"
    }
   ],
   "source": [
    "np.std(X2[:,1])"
   ]
  },
  {
   "cell_type": "code",
   "execution_count": null,
   "metadata": {},
   "outputs": [],
   "source": []
  },
  {
   "cell_type": "code",
   "execution_count": null,
   "metadata": {},
   "outputs": [],
   "source": []
  }
 ],
 "metadata": {
  "kernelspec": {
   "display_name": "Python 3",
   "language": "python",
   "name": "python3"
  },
  "language_info": {
   "codemirror_mode": {
    "name": "ipython",
    "version": 3
   },
   "file_extension": ".py",
   "mimetype": "text/x-python",
   "name": "python",
   "nbconvert_exporter": "python",
   "pygments_lexer": "ipython3",
   "version": "3.6.6"
  }
 },
 "nbformat": 4,
 "nbformat_minor": 2
}
